{
 "metadata": {
  "name": "",
  "signature": "sha256:c483c8c7296ecd1a6dfb2960031f358ef7d128523d456a297e8e0774df0a33c7"
 },
 "nbformat": 3,
 "nbformat_minor": 0,
 "worksheets": [
  {
   "cells": [
    {
     "cell_type": "code",
     "collapsed": false,
     "input": [
      "%pylab inline\n"
     ],
     "language": "python",
     "metadata": {},
     "outputs": [
      {
       "output_type": "stream",
       "stream": "stdout",
       "text": [
        "Populating the interactive namespace from numpy and matplotlib\n"
       ]
      }
     ],
     "prompt_number": 114
    },
    {
     "cell_type": "code",
     "collapsed": false,
     "input": [
      "x=[]\n",
      "y=[]\n",
      "z1=[]\n",
      "z2=[]\n",
      "for i in range(1000):\n",
      "    x.append(-5+i*0.01)\n",
      "    if(x[i]== -1):\n",
      "        print i\n",
      "    if(i>=400 and i<=600):\n",
      "        y.append(1)\n",
      "    else:\n",
      "        \n",
      "        y.append(0)\n",
      "        \n",
      "    if(i<=400):\n",
      "        z1.append(0.5)\n",
      "    else:\n",
      "        z1.append(.4)\n",
      "            \n",
      "    if(i<=600):\n",
      "        z2.append(.5)\n",
      "    else:\n",
      "        z2.append(.4)\n",
      "z3=ones(len(x))\n",
      "z3=z3/2"
     ],
     "language": "python",
     "metadata": {},
     "outputs": [
      {
       "output_type": "stream",
       "stream": "stdout",
       "text": [
        "400\n"
       ]
      }
     ],
     "prompt_number": 115
    },
    {
     "cell_type": "code",
     "collapsed": false,
     "input": [
      "\n",
      "fig, ax = plt.subplots()\n",
      "ax.set_xticks([-3,-1,1,3])\n",
      "ax.set_yticks([-0.5, 0,1,2])\n",
      "plot(x,y,\"k\", label=\"$ V(x)=V_{0}(\\Theta(x+a)-\\Theta(x-a)) $\")\n",
      "plot(x,z3,\"c--\",label=\"$ E_{e^{-}} $\")\n",
      "ylim(-0.5,1.8)\n",
      "xlim(-3,3)\n",
      "fig.canvas.draw()\n",
      "\n",
      "labels = [item.get_text() for item in ax.get_xticklabels()]\n",
      "labels1 = [item.get_text() for item in ax.get_yticklabels()]\n",
      "labels[1] = '0'\n",
      "labels[2]='a'\n",
      "labels[0]=' '\n",
      "labels[-1]= ' '\n",
      "labels1[2] = \" $ V_{0} $\"\n",
      "labels1[1]=' '\n",
      "labels1[0]=' '\n",
      "labels1[-1]= ' '\n",
      "\n",
      "\n",
      "ax.set_xticklabels(labels)\n",
      "ax.set_yticklabels(labels1)\n",
      "xlabel(\"$ x\\ $\",size=20)\n",
      "ylabel(\"$E\\ (eV)\\ $\",size=20)\n",
      "title(\"$ Expected\\ scenario\\ $\",size=20)\n",
      "legend()\n",
      "savefig(\"expected.png\")\n",
      "\n",
      "plt.show()\n",
      "\n"
     ],
     "language": "python",
     "metadata": {},
     "outputs": [
      {
       "metadata": {},
       "output_type": "display_data",
       "png": "[encoded data removed]",
       "text": [
        "<matplotlib.figure.Figure at 0x10cc25bd0>"
       ]
      }
     ],
     "prompt_number": 122
    },
    {
     "cell_type": "code",
     "collapsed": false,
     "input": [
      "fig, ax = plt.subplots()\n",
      "ax.set_xticks([-3,-1,1,3])\n",
      "ax.set_yticks([-0.5, 0,1,2])\n",
      "plot(x,y,\"k\", label=\"$ V(x)=V_{0}(\\Theta(x+a)-\\Theta(x-a)) $\")\n",
      "plot(x,z1,\"r--\",label=\"$ E_{e^{-}} $\")\n",
      "ylim(-0.5,1.8)\n",
      "xlim(-3,3)\n",
      "fig.canvas.draw()\n",
      "\n",
      "labels = [item.get_text() for item in ax.get_xticklabels()]\n",
      "labels1 = [item.get_text() for item in ax.get_yticklabels()]\n",
      "labels[1] = '0'\n",
      "labels[2]='a'\n",
      "labels[0]=' '\n",
      "labels[-1]= ' '\n",
      "labels1[2] = \" $ V_{0} $\"\n",
      "labels1[1]=' '\n",
      "labels1[0]=' '\n",
      "labels1[-1]= ' '\n",
      "\n",
      "\n",
      "ax.set_xticklabels(labels)\n",
      "ax.set_yticklabels(labels1)\n",
      "xlabel(\"$ x\\ $\",size=20)\n",
      "ylabel(\"$E\\ (eV)\\ $\",size=20)\n",
      "title(\"$ Case\\ 1\\ $\",size=20)\n",
      "\n",
      "legend()\n",
      "savefig(\"case1.png\")\n",
      "plt.show()\n",
      "\n"
     ],
     "language": "python",
     "metadata": {},
     "outputs": [
      {
       "metadata": {},
       "output_type": "display_data",
       "png": "[encoded data removed]",
       "text": [
        "<matplotlib.figure.Figure at 0x10d538e10>"
       ]
      }
     ],
     "prompt_number": 119
    },
    {
     "cell_type": "code",
     "collapsed": false,
     "input": [
      "fig, ax = plt.subplots()\n",
      "ax.set_xticks([-3,-1,1,3])\n",
      "ax.set_yticks([-0.5, 0,1,2])\n",
      "plot(x,y,\"k\", label=\"$ V(x)=V_{0}(\\Theta(x+a)-\\Theta(x-a)) $\")\n",
      "plot(x,z2,\"b--\",label=\"$ E_{e^{-}} $\")\n",
      "ylim(-0.5,1.8)\n",
      "xlim(-3,3)\n",
      "fig.canvas.draw()\n",
      "\n",
      "labels = [item.get_text() for item in ax.get_xticklabels()]\n",
      "labels1 = [item.get_text() for item in ax.get_yticklabels()]\n",
      "labels[1] = '0'\n",
      "labels[2]='a'\n",
      "labels[0]=' '\n",
      "labels[-1]= ' '\n",
      "labels1[2] = \" $ V_{0} $\"\n",
      "labels1[1]=' '\n",
      "labels1[0]=' '\n",
      "labels1[-1]= ' '\n",
      "\n",
      "\n",
      "ax.set_xticklabels(labels)\n",
      "ax.set_yticklabels(labels1)\n",
      "xlabel(\"$ x\\ $\",size=20)\n",
      "ylabel(\"$E\\ (eV)\\ $\",size=20)\n",
      "title(\"$ Case\\ 2\\ $\",size=20)\n",
      "\n",
      "legend()\n",
      "savefig(\"case2.png\")\n",
      "plt.show()\n",
      "\n"
     ],
     "language": "python",
     "metadata": {},
     "outputs": [
      {
       "metadata": {},
       "output_type": "display_data",
       "png": "[encoded data removed]",
       "text": [
        "<matplotlib.figure.Figure at 0x10d5704d0>"
       ]
      }
     ],
     "prompt_number": 121
    },
    {
     "cell_type": "code",
     "collapsed": false,
     "input": [],
     "language": "python",
     "metadata": {},
     "outputs": []
    }
   ],
   "metadata": {}
  }
 ]
}