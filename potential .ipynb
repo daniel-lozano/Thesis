{
 "metadata": {
  "name": "",
  "signature": "sha256:105b072a55447dacbe25fabafd5be2a0eb3c369f4c162084e3ad30f334cdf4a2"
 },
 "nbformat": 3,
 "nbformat_minor": 0,
 "worksheets": [
  {
   "cells": [
    {
     "cell_type": "code",
     "collapsed": false,
     "input": [
      "%pylab inline\n"
     ],
     "language": "python",
     "metadata": {},
     "outputs": [
      {
       "output_type": "stream",
       "stream": "stdout",
       "text": [
        "Populating the interactive namespace from numpy and matplotlib\n"
       ]
      }
     ],
     "prompt_number": 1
    },
    {
     "cell_type": "code",
     "collapsed": false,
     "input": [
      "x=[]\n",
      "y=[]\n",
      "z1=[]\n",
      "z2=[]\n",
      "for i in range(1000):\n",
      "    x.append(-5+i*0.01)\n",
      "\n",
      "    if(i>=350 and i<=650):\n",
      "        y.append(1)\n",
      "    else:\n",
      "        y.append(0)\n",
      "        \n",
      "    if(i<=350):\n",
      "        z1.append(0.5)\n",
      "    else:\n",
      "        z1.append(.4)\n",
      "            \n",
      "    if(i<=650):\n",
      "        z2.append(.5)\n",
      "    else:\n",
      "        z2.append(.4)"
     ],
     "language": "python",
     "metadata": {},
     "outputs": [],
     "prompt_number": 36
    },
    {
     "cell_type": "code",
     "collapsed": false,
     "input": [],
     "language": "python",
     "metadata": {},
     "outputs": [],
     "prompt_number": 36
    },
    {
     "cell_type": "code",
     "collapsed": false,
     "input": [
      "print len(x),len(y)"
     ],
     "language": "python",
     "metadata": {},
     "outputs": [
      {
       "output_type": "stream",
       "stream": "stdout",
       "text": [
        "1000 1000\n"
       ]
      }
     ],
     "prompt_number": 37
    },
    {
     "cell_type": "code",
     "collapsed": false,
     "input": [
      "plot(x,y,\"k\", label=\"$ V(x)=V_{0}(\\Theta(x+a)-\\Theta(x-a)) $\")\n",
      "plot(x,z1,\"r--\",label=\"$ E_{e^{-}} $\")\n",
      "xlim(-5,5)\n",
      "ylim(-.5,2)\n",
      "xlabel(\"$ x\\ $\",size=20)\n",
      "ylabel(\"$E\\ (eV)\\ $\",size=20)\n",
      "title(\"$ Case\\ 1\\ $\",size=20)\n",
      "legend()"
     ],
     "language": "python",
     "metadata": {},
     "outputs": [
      {
       "metadata": {},
       "output_type": "pyout",
       "prompt_number": 65,
       "text": [
        "<matplotlib.legend.Legend at 0x114879d50>"
       ]
      },
      {
       "metadata": {},
       "output_type": "display_data",
       "png": "[encoded data removed]",
       "text": [
        "<matplotlib.figure.Figure at 0x11463c550>"
       ]
      }
     ],
     "prompt_number": 65
    },
    {
     "cell_type": "code",
     "collapsed": false,
     "input": [
      "plot(x,y,\"k\", label=\"$ V(x)=V_{0}(\\Theta(x+a)-\\Theta(x-a)) $\")\n",
      "plot(x,z2,\"b--\",label=\"$ E_{e^{-}} $\")\n",
      "xlim(-5,5)\n",
      "ylim(-.5,2)\n",
      "xlabel(\"$ x\\ $\",size=20)\n",
      "ylabel(\"$E\\ (eV)\\ $\",size=20)\n",
      "title(\"$ Case\\ 2\\ $\",size=20)\n",
      "legend()"
     ],
     "language": "python",
     "metadata": {},
     "outputs": [
      {
       "metadata": {},
       "output_type": "pyout",
       "prompt_number": 66,
       "text": [
        "<matplotlib.legend.Legend at 0x1149c3310>"
       ]
      },
      {
       "metadata": {},
       "output_type": "display_data",
       "png": "[encoded data removed]",
       "text": [
        "<matplotlib.figure.Figure at 0x1142ea750>"
       ]
      }
     ],
     "prompt_number": 66
    },
    {
     "cell_type": "code",
     "collapsed": false,
     "input": [
      "x=[]\n",
      "for i in range(10000):\n",
      "    x.append(0.01*i)\n",
      "print len(x)\n",
      "    "
     ],
     "language": "python",
     "metadata": {},
     "outputs": [
      {
       "output_type": "stream",
       "stream": "stdout",
       "text": [
        "10000\n"
       ]
      }
     ],
     "prompt_number": 68
    },
    {
     "cell_type": "code",
     "collapsed": false,
     "input": [],
     "language": "python",
     "metadata": {},
     "outputs": []
    }
   ],
   "metadata": {}
  }
 ]
}