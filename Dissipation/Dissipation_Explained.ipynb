{
 "cells": [
  {
   "cell_type": "code",
   "execution_count": 1,
   "metadata": {
    "collapsed": false
   },
   "outputs": [
    {
     "name": "stdout",
     "output_type": "stream",
     "text": [
      "Populating the interactive namespace from numpy and matplotlib\n"
     ]
    },
    {
     "name": "stderr",
     "output_type": "stream",
     "text": [
      "/Users/daniellozano/anaconda/lib/python2.7/site-packages/matplotlib/font_manager.py:273: UserWarning: Matplotlib is building the font cache using fc-list. This may take a moment.\n",
      "  warnings.warn('Matplotlib is building the font cache using fc-list. This may take a moment.')\n"
     ]
    }
   ],
   "source": [
    "%pylab inline\n",
    "import numpy as np\n",
    "import matplotlib as plt\n",
    "from scipy.fftpack import fft\n",
    "import cmath as cm"
   ]
  },
  {
   "cell_type": "markdown",
   "metadata": {},
   "source": [
    "## Some Functions that will be used "
   ]
  },
  {
   "cell_type": "markdown",
   "metadata": {},
   "source": [
    "# $ \\sigma=\\sqrt{\\gamma^2+(4\\gamma \\Omega/\\pi)^2} \\\\ f(t)=\\frac{\\sigma t e^{\\gamma t}}{sinh(\\sigma t)} \\simeq 2\\sigma t e^{-(\\sigma-\\gamma)t} $"
   ]
  },
  {
   "cell_type": "markdown",
   "metadata": {},
   "source": [
    "# $ w_{a} =-\\frac{2 i k\\kappa e^{-ikd}}{  (k^2 + \\kappa^2)\\cdot sin(\\kappa d) \\quad + \\quad 2ik\\kappa \\cdot cos(\\kappa d)  }\\quad Above \\\\  w_{b} =\\frac{2  k\\kappa e^{-ikd}}{  (k^2 - \\kappa^2)\\cdot i sinh(\\kappa d) \\quad - \\quad 2k\\kappa \\cdot cosh(\\kappa d)  } \\quad Bellow$  \n"
   ]
  },
  {
   "cell_type": "code",
   "execution_count": 2,
   "metadata": {
    "collapsed": false
   },
   "outputs": [
    {
     "name": "stdout",
     "output_type": "stream",
     "text": [
      "1.86567525413e-17\n"
     ]
    }
   ],
   "source": [
    "def Dissipation_function(OMEGA,gamma,t):\n",
    "    sigma=sqrt(gamma**2+(4.0*gamma*OMEGA/pi)**2)\n",
    "    ft=2*sigma*t*exp(-(sigma-gamma)*t) \n",
    "    return ft\n",
    "\n",
    "def Fourier(y,omega,t,dt,im):\n",
    "    suma=0\n",
    "    Fourier=zeros(len(y),type=\"complex\")\n",
    "    for i in range(len(y)):\n",
    "        suma+=y[i]*exp(-omega[i]*t[i]*im)*dt\n",
    "        Fourier[i]=suma\n",
    "\n",
    "def integrate(dt,Y):\n",
    "    suma=0.0\n",
    "    for i in range(len(Y)):\n",
    "        suma+=Y[i]*dt\n",
    "        \n",
    "    return suma\n",
    "\n",
    "X=10000\n",
    "dx=1.0/X\n",
    "x=linspace(0,2*pi,X)\n",
    "x1=ones(X)\n",
    "y=sin(x)\n",
    "\n",
    "\n",
    "print integrate(dx,y)\n",
    "\n"
   ]
  },
  {
   "cell_type": "markdown",
   "metadata": {},
   "source": [
    "## Transmission functions with dissipation"
   ]
  },
  {
   "cell_type": "code",
   "execution_count": 3,
   "metadata": {
    "collapsed": false
   },
   "outputs": [],
   "source": [
    "def T_f_above(im,E,Vo,Vop,d,m,hbarc):\n",
    "    \n",
    "    EV=zeros(len(Vo),dtype=\"complex\")\n",
    "    \n",
    "    for i in range(len(Vo)): \n",
    "        \n",
    "        EV[i]=sqrt(complex(E-Vo[i]))\n",
    "    \n",
    "    k=sqrt(2.0*m*Vop*E)/hbarc # multiplying by Vop due to units\n",
    "    \n",
    "    kp=sqrt(2.0*m*Vop)*EV/hbarc\n",
    "    \n",
    "    w=-(2.0*im*k*kp*exp(-im*k*d)) / ( (k**2 + kp**2)*sin(kp*d) + 2*im*k*kp*cos(kp*d) ) \n",
    "    \n",
    "    return w\n",
    "        \n",
    "def T_f_bellow(im,E,Vo,Vop,d,m,hbarc):\n",
    "    \n",
    "    EV=zeros(len(Vo),dtype=\"complex\")\n",
    "    \n",
    "    for i in range(len(Vo)):\n",
    "        EV[i]=sqrt(complex(Vo[i]-E))\n",
    "    \n",
    "    k=sqrt(2.0*m*Vop*E)/hbarc # multiplying by Vop due to units\n",
    "    \n",
    "    kp=sqrt(2.0*m*Vop)*EV/hbarc\n",
    "    \n",
    "    w=(2.0*k*kp*exp(-im*k*d)) / ( (k**2 - kp**2)*im*sinh(kp*d) - 2*k*kp*cosh(kp*d) )\n",
    "    \n",
    "    return w\n"
   ]
  },
  {
   "cell_type": "markdown",
   "metadata": {},
   "source": [
    "## Transmission functions with no dissipation"
   ]
  },
  {
   "cell_type": "code",
   "execution_count": 4,
   "metadata": {
    "collapsed": true
   },
   "outputs": [],
   "source": [
    "def T_f_above_nd(im,E,Vop,d,m,hbarc):\n",
    "   \n",
    "    k=sqrt(2.0*m*Vop*E)/hbarc # multiplying by Vop due to units\n",
    "    \n",
    "    kp=sqrt(2.0*m*Vop*(E-Vop))/hbarc\n",
    "    \n",
    "    w=-(2.0*im*k*kp*exp(-im*k*d)) / ( (k**2 + kp**2)*sin(kp*d) + 2*im*k*kp*cos(kp*d) ) \n",
    "    \n",
    "    return w\n",
    "        \n",
    "def T_f_bellow_nd(im,E,Vop,d,m,hbarc):\n",
    "    \n",
    "    k=sqrt(2.0*m*Vop*E)/hbarc # multiplying by Vop due to units\n",
    "    \n",
    "    kp=sqrt(2.0*m*Vop*(Vop-E))/hbarc\n",
    "    \n",
    "    w=(2.0*k*kp*exp(-im*k*d)) / ( (k**2 - kp**2)*im*sinh(kp*d) - 2*k*kp*cosh(kp*d) )\n",
    "    \n",
    "    return w\n",
    "\n"
   ]
  },
  {
   "cell_type": "markdown",
   "metadata": {},
   "source": [
    "## Checking the dissipation function with $ \\gamma=0.01 $"
   ]
  },
  {
   "cell_type": "code",
   "execution_count": 5,
   "metadata": {
    "collapsed": false
   },
   "outputs": [
    {
     "name": "stdout",
     "output_type": "stream",
     "text": [
      "Last value of  \\sqrt{f(t)}=  0.00911594432514\n"
     ]
    },
    {
     "data": {
      "image/png": "[encoded data removed]",
      "text/plain": [
       "<matplotlib.figure.Figure at 0x1040bf510>"
      ]
     },
     "metadata": {},
     "output_type": "display_data"
    }
   ],
   "source": [
    "t=linspace(0,10,200)\n",
    "ft=Dissipation_function(100,0.01,t)\n",
    "plot(t,ft,label=\"$ f(t)\\quad \\gamma=0.01 $\")\n",
    "plot(t,np.sqrt(ft),label=\"$ \\sqrt{f(t)}\\quad \\gamma=0.01 $\")\n",
    "xlabel(\"$ Time\\in[0,10] $\",size=20)\n",
    "figsize(15,5)\n",
    "legend()\n",
    "print \"Last value of  \\sqrt{f(t)}= \",np.sqrt(ft)[-1]"
   ]
  },
  {
   "cell_type": "markdown",
   "metadata": {},
   "source": [
    "## $F[f(x)]=\\frac{1}{2\\pi}\\int_{-\\infty}^{\\infty}f(x)e^{-i\\omega t}$"
   ]
  },
  {
   "cell_type": "markdown",
   "metadata": {},
   "source": [
    "## Parameters used"
   ]
  },
  {
   "cell_type": "code",
   "execution_count": 6,
   "metadata": {
    "collapsed": false
   },
   "outputs": [
    {
     "name": "stdout",
     "output_type": "stream",
     "text": [
      "hbar= 6.58205470314e-16 eV/s \n",
      "i= 1j <type 'complex'>\n",
      "2.73470835656e+15\n"
     ]
    }
   ],
   "source": [
    "#Definiendo algunas variables\n",
    "T=500 #time used, size of the arrays\n",
    "dt=1.0/T\n",
    "Vop=1.8 # eV\n",
    "hbarc=0.19733# ev Microm *c\n",
    "c=2.998*10**14 # Microm/sec\n",
    "hbar=hbarc/c\n",
    "m=0.511*10**6 # ev\n",
    "d=20.8*10**-4 # Microm\n",
    "OMEGA=100 #Cutoff frequency used\n",
    "im=complex(0,1) #definiendo i\n",
    "\n",
    "print \"hbar=\",hbar,\"eV/s \\ni=\", im,type(im)# ev s^{-1}\n",
    "print Vop/hbar"
   ]
  },
  {
   "cell_type": "markdown",
   "metadata": {},
   "source": [
    "## Arrays that will be used"
   ]
  },
  {
   "cell_type": "code",
   "execution_count": 7,
   "metadata": {
    "collapsed": false
   },
   "outputs": [
    {
     "name": "stdout",
     "output_type": "stream",
     "text": [
      "Minimun value of omega= -0.0789846564376 \n",
      "Maximun value of omega= 0.0789846564376\n"
     ]
    }
   ],
   "source": [
    "Gamma=[1*10**-2,5*10**-2] # se toman 3 gamas diferentes\n",
    "\n",
    "E1=np.linspace(0.01,0.999,T) #array of energy uppon Vo bellow the barrier\n",
    "E2=np.linspace(1.001,2,T) #array of energy uppon Vo above the barrier\n",
    "Vop=1.8\n",
    "OMG=1.2*10**14\n",
    "omega=np.linspace(-OMG,OMG,T)\n",
    "#omega=np.linspace((-0.99*Vop)/hbar,(0.99*Vop)/hbar,T) #omega used in the Fourier Transform, \n",
    "                                                      #It goes from -Vop/hbar to Vop\\hbar,with size=T\n",
    "\n",
    "trans=zeros([len(E1),4])# in this array we will save the transforms, bellow and above\n",
    "\n",
    "t=np.linspace(0,10,T)#time used\n",
    "\n",
    "print \"Minimun value of omega=\",min(omega*hbar),\"\\nMaximun value of omega=\",max(omega*hbar)"
   ]
  },
  {
   "cell_type": "code",
   "execution_count": 8,
   "metadata": {
    "collapsed": false
   },
   "outputs": [
    {
     "name": "stdout",
     "output_type": "stream",
     "text": [
      "Bellow 0\n",
      "0.01\n",
      "0.05\n",
      "Above 1\n",
      "0.01\n",
      "0.05\n"
     ]
    }
   ],
   "source": [
    "\n",
    "for k in range(2): #doing bellow and above in one try\n",
    "\n",
    "    if(k==0): #choosing the energy we will work with\n",
    "        E=E1\n",
    "        print \"Bellow\",k\n",
    "        \n",
    "    if(k==1):\n",
    "        E=E2\n",
    "        print \"Above\",k\n",
    "    \n",
    "    for g in range(len(Gamma)):\n",
    "        \n",
    "        ft=Dissipation_function(OMEGA,Gamma[g],t)\n",
    "        \n",
    "        print Gamma[g] # Knowing which gamma we are working with\n",
    "         \n",
    "        for i in range(len(E)): # Varying the energy \n",
    "        \n",
    "            Vo=(Vop-omega*(hbar))/Vop # Defining the new potential\n",
    "            \n",
    "            ###########choosing the transmission function############\n",
    "            \n",
    "            Energy=E[i]\n",
    "            \n",
    "            if(k==0): \n",
    "                w=T_f_bellow(im,Energy,Vo,Vop,d,m,hbarc)\n",
    "                \n",
    "\n",
    "            if(k==1): \n",
    "                w=T_f_above(im,Energy,Vo,Vop,d,m,hbarc)\n",
    "          \n",
    "            W=fft(w)\n",
    "                \n",
    "            function=sqrt(ft)*W\n",
    "        \n",
    "            \n",
    "            trans[i,g+2*k]=abs(integrate(dt,function))**2#integrating, getting the absolute value and squaring it \n",
    "  "
   ]
  },
  {
   "cell_type": "code",
   "execution_count": 9,
   "metadata": {
    "collapsed": false
   },
   "outputs": [
    {
     "data": {
      "text/plain": [
       "<matplotlib.legend.Legend at 0x10ce07ed0>"
      ]
     },
     "execution_count": 9,
     "metadata": {},
     "output_type": "execute_result"
    },
    {
     "data": {
      "image/png": "[encoded data removed]",
      "text/plain": [
       "<matplotlib.figure.Figure at 0x109be9ed0>"
      ]
     },
     "metadata": {},
     "output_type": "display_data"
    }
   ],
   "source": [
    "\n",
    "plot(E1,trans[:,0],\"r\",label=\"$\\gamma=1E-2$\",lw=2)\n",
    "plot(E1,trans[:,1],\"b\",label=\"$\\gamma=5E-2$\",lw=2)\n",
    "\n",
    "plot(E2,trans[:,2],\"r\",lw=2)\n",
    "plot(E2,trans[:,3],\"b\",lw=2)\n",
    "xlim(0.9,2)\n",
    "xlabel(\"$ E/Vo $\", size=20)\n",
    "ylabel(\"$ Transmission\\ Coeficient $\",size=20)\n",
    "legend()"
   ]
  },
  {
   "cell_type": "code",
   "execution_count": 10,
   "metadata": {
    "collapsed": false
   },
   "outputs": [
    {
     "name": "stdout",
     "output_type": "stream",
     "text": [
      "1.2e+14\n"
     ]
    }
   ],
   "source": [
    "print OMG"
   ]
  },
  {
   "cell_type": "code",
   "execution_count": 11,
   "metadata": {
    "collapsed": false
   },
   "outputs": [
    {
     "name": "stderr",
     "output_type": "stream",
     "text": [
      "/Users/daniellozano/anaconda/lib/python2.7/site-packages/ipykernel/__main__.py:5: RuntimeWarning: invalid value encountered in sqrt\n"
     ]
    },
    {
     "data": {
      "text/plain": [
       "[<matplotlib.lines.Line2D at 0x10d0e9890>]"
      ]
     },
     "execution_count": 11,
     "metadata": {},
     "output_type": "execute_result"
    },
    {
     "data": {
      "image/png": "[encoded data removed]",
      "text/plain": [
       "<matplotlib.figure.Figure at 0x10ce1cd50>"
      ]
     },
     "metadata": {},
     "output_type": "display_data"
    }
   ],
   "source": []
  },
  {
   "cell_type": "markdown",
   "metadata": {
    "collapsed": true
   },
   "source": [
    "# $ \\\\ F_{D}=\\frac{1}{w_{D}(E, V_{0})}\\int_{-\\infty}^{\\infty}\\frac{d\\omega}{2\\pi}e^{-i\\omega t}w_{D}(E, V_{0}-\\hbar\\omega)=\\frac{\\sqrt{f(t)}F(t)}{\\int_{0}^{\\infty}dt\\sqrt{f(t)}F(t)}:= $ Probability amplitude (of time)"
   ]
  },
  {
   "cell_type": "code",
   "execution_count": 18,
   "metadata": {
    "collapsed": false
   },
   "outputs": [
    {
     "name": "stdout",
     "output_type": "stream",
     "text": [
      "Bellow 0\n",
      "Above 1\n"
     ]
    },
    {
     "data": {
      "text/plain": [
       "<matplotlib.legend.Legend at 0x10e3ddc10>"
      ]
     },
     "execution_count": 18,
     "metadata": {},
     "output_type": "execute_result"
    },
    {
     "data": {
      "image/png": "[encoded data removed]",
      "text/plain": [
       "<matplotlib.figure.Figure at 0x10e175c90>"
      ]
     },
     "metadata": {},
     "output_type": "display_data"
    }
   ],
   "source": [
    "for k in range(2): #doing bellow and above in one try\n",
    "\n",
    "    if(k==0): #choosing the energy we will work with\n",
    "        E=E1\n",
    "        print \"Bellow\",k\n",
    "        \n",
    "    if(k==1):\n",
    "        E=E2\n",
    "        print \"Above\",k\n",
    "    \n",
    "    for g in range(len(Gamma)):\n",
    "        \n",
    "        ft=Dissipation_function(OMEGA,Gamma[g],t)\n",
    "        if(k==0):\n",
    "            plot(t,ft,label=\"$ \\gamma= $\"+str(Gamma[g]))\n",
    "title(\"dissipative functions\",size=20)  \n",
    "xlabel(\"$ t $\", size=20)\n",
    "legend()        \n",
    "       "
   ]
  },
  {
   "cell_type": "code",
   "execution_count": 70,
   "metadata": {
    "collapsed": false
   },
   "outputs": [
    {
     "name": "stdout",
     "output_type": "stream",
     "text": [
      "max and min value of omega used:= 1.2e+14\n",
      "Bellow 0\n",
      "7.76101383553e-06\n",
      "7.76101383553e-06\n",
      "Above 1\n",
      "0.80973187221\n",
      "0.80973187221\n"
     ]
    }
   ],
   "source": [
    "F_matrix=zeros([len(E1),4],dtype=\"complex\")\n",
    "F_abso=zeros([len(E1),4])\n",
    "print \"max and min value of omega used:=\",OMG\n",
    "## say E=0.5\n",
    "\n",
    "for k in range(2): #doing bellow and above in one try\n",
    "\n",
    "    if(k==0): #choosing the energy we will work with\n",
    "        E=E1\n",
    "        print \"Bellow\",k\n",
    "        \n",
    "    if(k==1):\n",
    "        E=E2\n",
    "        print \"Above\",k\n",
    "    \n",
    "    for g in range(len(Gamma)):\n",
    "        \n",
    "        ft=Dissipation_function(OMEGA,Gamma[g],t)\n",
    "        sft=sqrt(ft) # \\sqrt{dissipation function}\n",
    "        \n",
    "        ############## Calculating F(t)  ######################\n",
    "        ##### the calculus is with the total energy array ####\n",
    "        ### choosing a fixed value of E = 0.5 (1.5 in the other case) ######\n",
    "            \n",
    "        Vo=(Vop-omega*(hbar))/Vop # Defining the new potential\n",
    "            \n",
    "        ###########choosing the transmission function############\n",
    "  \n",
    "        if(k==0): \n",
    "            Energy=0.9*Vop\n",
    "            w=T_f_bellow(im,Energy,Vo,Vop,d,m,hbarc)\n",
    "            \n",
    "            w1=T_f_bellow_nd(im,Energy,Vop,d,m,hbarc)\n",
    "            \n",
    "            print abs(w1)**2\n",
    "            \n",
    "\n",
    " \n",
    "        if(k==1): \n",
    "            Energy=1.5*Vop\n",
    "            \n",
    "            w=T_f_above(im,Energy,Vo,Vop,d,m,hbarc)\n",
    "            \n",
    "            w1=T_f_above_nd(im,Energy,Vop,d,m,hbarc)\n",
    "            \n",
    "            print abs(w1)**2\n",
    "          \n",
    "        W=fft(w)\n",
    "            \n",
    "            \n",
    "        F_matrix[:,g+2*k]=W/w1\n",
    "        F_abso[:,g+2*k]=abs(W/w1)\n",
    "            \n",
    "\n",
    "        \n",
    "  \n"
   ]
  },
  {
   "cell_type": "code",
   "execution_count": 62,
   "metadata": {
    "collapsed": false
   },
   "outputs": [
    {
     "name": "stdout",
     "output_type": "stream",
     "text": [
      "5063.14613393\n",
      "5063.14613393\n",
      "0.27126326401\n",
      "0.27126326401\n"
     ]
    }
   ],
   "source": [
    "for i in range(len(F_matrix[0,:])):\n",
    "    print min(abs(F_matrix[:,i]))"
   ]
  },
  {
   "cell_type": "code",
   "execution_count": 28,
   "metadata": {
    "collapsed": false
   },
   "outputs": [
    {
     "name": "stdout",
     "output_type": "stream",
     "text": [
      "(500, 4) 500 500\n"
     ]
    }
   ],
   "source": [
    "print shape(F_matrix),len(E1), len(omega)"
   ]
  },
  {
   "cell_type": "code",
   "execution_count": null,
   "metadata": {
    "collapsed": true
   },
   "outputs": [],
   "source": []
  }
 ],
 "metadata": {
  "kernelspec": {
   "display_name": "Python 2",
   "language": "python",
   "name": "python2"
  },
  "language_info": {
   "codemirror_mode": {
    "name": "ipython",
    "version": 2
   },
   "file_extension": ".py",
   "mimetype": "text/x-python",
   "name": "python",
   "nbconvert_exporter": "python",
   "pygments_lexer": "ipython2",
   "version": "2.7.11"
  }
 },
 "nbformat": 4,
 "nbformat_minor": 0
}
