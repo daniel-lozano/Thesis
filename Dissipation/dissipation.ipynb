{
 "cells": [
  {
   "cell_type": "code",
   "execution_count": 45,
   "metadata": {
    "collapsed": false
   },
   "outputs": [
    {
     "name": "stdout",
     "output_type": "stream",
     "text": [
      "Populating the interactive namespace from numpy and matplotlib\n"
     ]
    },
    {
     "name": "stderr",
     "output_type": "stream",
     "text": [
      "WARNING: pylab import has clobbered these variables: ['plt', 'fft']\n",
      "`%matplotlib` prevents importing * from pylab and numpy\n"
     ]
    }
   ],
   "source": [
    "%pylab inline\n",
    "import numpy as np\n",
    "import matplotlib as plt\n",
    "from scipy.fftpack import fft\n",
    "import cmath as cm"
   ]
  },
  {
   "cell_type": "code",
   "execution_count": 46,
   "metadata": {
    "collapsed": false
   },
   "outputs": [],
   "source": [
    "X=np.linspace(-5,5,200)\n",
    "Y=exp(-X**2)\n",
    "YF=fft(Y)\n",
    "freq=fftfreq(X.shape[-1])"
   ]
  },
  {
   "cell_type": "code",
   "execution_count": 47,
   "metadata": {
    "collapsed": false
   },
   "outputs": [
    {
     "name": "stdout",
     "output_type": "stream",
     "text": [
      "(1+10j)\n",
      "(1-10j)\n"
     ]
    },
    {
     "data": {
      "image/png": "[encoded data removed]",
      "text/plain": [
       "<matplotlib.figure.Figure at 0x10e343b90>"
      ]
     },
     "metadata": {},
     "output_type": "display_data"
    }
   ],
   "source": [
    "#plot(X,Y)\n",
    "scatter(freq,abs(YF))\n",
    "xlim(-.1,.1)\n",
    "Z=complex(1,10)\n",
    "print Z\n",
    "print conjugate(Z)\n"
   ]
  },
  {
   "cell_type": "code",
   "execution_count": 127,
   "metadata": {
    "collapsed": false
   },
   "outputs": [
    {
     "name": "stdout",
     "output_type": "stream",
     "text": [
      "3.14159265359\n"
     ]
    }
   ],
   "source": [
    "#Definiendo algunas variables\n",
    "T=200\n",
    "dt=1.0/T\n",
    "\n",
    "E=np.linspace(1.01,4,T)\n",
    "t=linspace(0,100,T)\n",
    "Vop=1.0\n",
    "hbar=1.0\n",
    "m=1\n",
    "d=0.01\n",
    "print pi"
   ]
  },
  {
   "cell_type": "code",
   "execution_count": 159,
   "metadata": {
    "collapsed": false,
    "scrolled": true
   },
   "outputs": [
    {
     "name": "stderr",
     "output_type": "stream",
     "text": [
      "/Users/daniellozano/anaconda/lib/python2.7/site-packages/ipykernel/__main__.py:16: RuntimeWarning: invalid value encountered in sqrt\n",
      "/Users/daniellozano/anaconda/lib/python2.7/site-packages/ipykernel/__main__.py:27: DeprecationWarning: using a non-integer number instead of an integer will result in an error in the future\n"
     ]
    }
   ],
   "source": [
    "omega=linspace(-0.1,0.1,T)\n",
    "gamma=[5*10**-3,1*10**-3,0]\n",
    "OMEGA=1\n",
    "trans=zeros([len(E),3])\n",
    "\n",
    "for g in gamma:\n",
    "    sigma=sqrt(g**2+(4.0*OMEGA/pi)**2) #cambiando gamma\n",
    "    \n",
    "    FT=sqrt(t*sigma*exp(-(sigma-g)*t)) #definiendo la funcion sqrt(f(t))\n",
    "    \n",
    "    for i in range(len(E)): #variando la energia, punto por punto\n",
    "        \n",
    "        Vo=Vop-hbar*omega # definiendo el cambio de potencial\n",
    "        \n",
    "        k=sqrt(2.0*m*E[i])/hbar\n",
    "        kp=sqrt(2.0*m*(E[i]-Vo))/hbar\n",
    "        im=complex(0,1) #definiendo i\n",
    "        \n",
    "        w=-(2*im*k*kp*exp(-im*k*d)) / ( (k**2 + kp**2)*sin(kp*d) + 2*im*k*kp*cos(kp*d)  ) #creando la funcion para un cierto E\n",
    "  \n",
    "        W=abs(fft(w))#haciendo la transformada\n",
    "        \n",
    "        suma=0\n",
    "        for l in range(len(t)):\n",
    "            suma+=dt*FT[l]*W[l]\n",
    "           \n",
    "        trans[i,g]=suma\n",
    "  \n",
    "        \n",
    "#freq=fftfreq(E.shape[-1])"
   ]
  },
  {
   "cell_type": "code",
   "execution_count": 160,
   "metadata": {
    "collapsed": false,
    "scrolled": true
   },
   "outputs": [
    {
     "name": "stdout",
     "output_type": "stream",
     "text": [
      "[[        nan  0.          0.        ]\n",
      " [        nan  0.          0.        ]\n",
      " [        nan  0.          0.        ]\n",
      " [        nan  0.          0.        ]\n",
      " [        nan  0.          0.        ]\n",
      " [        nan  0.          0.        ]\n",
      " [ 0.00030016  0.          0.        ]\n",
      " [ 0.00029813  0.          0.        ]\n",
      " [ 0.00029614  0.          0.        ]\n",
      " [ 0.0002942   0.          0.        ]\n",
      " [ 0.00029228  0.          0.        ]\n",
      " [ 0.00029041  0.          0.        ]\n",
      " [ 0.00028857  0.          0.        ]\n",
      " [ 0.00028677  0.          0.        ]\n",
      " [ 0.00028499  0.          0.        ]\n",
      " [ 0.00028326  0.          0.        ]\n",
      " [ 0.00028155  0.          0.        ]\n",
      " [ 0.00027987  0.          0.        ]\n",
      " [ 0.00027822  0.          0.        ]\n",
      " [ 0.00027661  0.          0.        ]\n",
      " [ 0.00027502  0.          0.        ]\n",
      " [ 0.00027345  0.          0.        ]\n",
      " [ 0.00027192  0.          0.        ]\n",
      " [ 0.0002704   0.          0.        ]\n",
      " [ 0.00026892  0.          0.        ]\n",
      " [ 0.00026746  0.          0.        ]\n",
      " [ 0.00026602  0.          0.        ]\n",
      " [ 0.0002646   0.          0.        ]\n",
      " [ 0.00026321  0.          0.        ]\n",
      " [ 0.00026184  0.          0.        ]\n",
      " [ 0.00026049  0.          0.        ]\n",
      " [ 0.00025916  0.          0.        ]\n",
      " [ 0.00025785  0.          0.        ]\n",
      " [ 0.00025656  0.          0.        ]\n",
      " [ 0.00025529  0.          0.        ]\n",
      " [ 0.00025403  0.          0.        ]\n",
      " [ 0.0002528   0.          0.        ]\n",
      " [ 0.00025158  0.          0.        ]\n",
      " [ 0.00025039  0.          0.        ]\n",
      " [ 0.0002492   0.          0.        ]\n",
      " [ 0.00024804  0.          0.        ]\n",
      " [ 0.00024689  0.          0.        ]\n",
      " [ 0.00024576  0.          0.        ]\n",
      " [ 0.00024464  0.          0.        ]\n",
      " [ 0.00024354  0.          0.        ]\n",
      " [ 0.00024245  0.          0.        ]\n",
      " [ 0.00024138  0.          0.        ]\n",
      " [ 0.00024032  0.          0.        ]\n",
      " [ 0.00023927  0.          0.        ]\n",
      " [ 0.00023824  0.          0.        ]\n",
      " [ 0.00023722  0.          0.        ]\n",
      " [ 0.00023622  0.          0.        ]\n",
      " [ 0.00023522  0.          0.        ]\n",
      " [ 0.00023424  0.          0.        ]\n",
      " [ 0.00023327  0.          0.        ]\n",
      " [ 0.00023232  0.          0.        ]\n",
      " [ 0.00023137  0.          0.        ]\n",
      " [ 0.00023044  0.          0.        ]\n",
      " [ 0.00022952  0.          0.        ]\n",
      " [ 0.00022861  0.          0.        ]\n",
      " [ 0.00022771  0.          0.        ]\n",
      " [ 0.00022682  0.          0.        ]\n",
      " [ 0.00022594  0.          0.        ]\n",
      " [ 0.00022507  0.          0.        ]\n",
      " [ 0.00022421  0.          0.        ]\n",
      " [ 0.00022336  0.          0.        ]\n",
      " [ 0.00022252  0.          0.        ]\n",
      " [ 0.00022169  0.          0.        ]\n",
      " [ 0.00022087  0.          0.        ]\n",
      " [ 0.00022005  0.          0.        ]\n",
      " [ 0.00021925  0.          0.        ]\n",
      " [ 0.00021846  0.          0.        ]\n",
      " [ 0.00021767  0.          0.        ]\n",
      " [ 0.00021689  0.          0.        ]\n",
      " [ 0.00021612  0.          0.        ]\n",
      " [ 0.00021536  0.          0.        ]\n",
      " [ 0.00021461  0.          0.        ]\n",
      " [ 0.00021386  0.          0.        ]\n",
      " [ 0.00021313  0.          0.        ]\n",
      " [ 0.0002124   0.          0.        ]\n",
      " [ 0.00021167  0.          0.        ]\n",
      " [ 0.00021096  0.          0.        ]\n",
      " [ 0.00021025  0.          0.        ]\n",
      " [ 0.00020955  0.          0.        ]\n",
      " [ 0.00020885  0.          0.        ]\n",
      " [ 0.00020817  0.          0.        ]\n",
      " [ 0.00020749  0.          0.        ]\n",
      " [ 0.00020681  0.          0.        ]\n",
      " [ 0.00020615  0.          0.        ]\n",
      " [ 0.00020548  0.          0.        ]\n",
      " [ 0.00020483  0.          0.        ]\n",
      " [ 0.00020418  0.          0.        ]\n",
      " [ 0.00020354  0.          0.        ]\n",
      " [ 0.0002029   0.          0.        ]\n",
      " [ 0.00020227  0.          0.        ]\n",
      " [ 0.00020165  0.          0.        ]\n",
      " [ 0.00020103  0.          0.        ]\n",
      " [ 0.00020042  0.          0.        ]\n",
      " [ 0.00019981  0.          0.        ]\n",
      " [ 0.00019921  0.          0.        ]\n",
      " [ 0.00019861  0.          0.        ]\n",
      " [ 0.00019802  0.          0.        ]\n",
      " [ 0.00019743  0.          0.        ]\n",
      " [ 0.00019685  0.          0.        ]\n",
      " [ 0.00019628  0.          0.        ]\n",
      " [ 0.00019571  0.          0.        ]\n",
      " [ 0.00019514  0.          0.        ]\n",
      " [ 0.00019458  0.          0.        ]\n",
      " [ 0.00019402  0.          0.        ]\n",
      " [ 0.00019347  0.          0.        ]\n",
      " [ 0.00019292  0.          0.        ]\n",
      " [ 0.00019238  0.          0.        ]\n",
      " [ 0.00019184  0.          0.        ]\n",
      " [ 0.00019131  0.          0.        ]\n",
      " [ 0.00019078  0.          0.        ]\n",
      " [ 0.00019026  0.          0.        ]\n",
      " [ 0.00018974  0.          0.        ]\n",
      " [ 0.00018922  0.          0.        ]\n",
      " [ 0.00018871  0.          0.        ]\n",
      " [ 0.0001882   0.          0.        ]\n",
      " [ 0.0001877   0.          0.        ]\n",
      " [ 0.0001872   0.          0.        ]\n",
      " [ 0.00018671  0.          0.        ]\n",
      " [ 0.00018621  0.          0.        ]\n",
      " [ 0.00018573  0.          0.        ]\n",
      " [ 0.00018524  0.          0.        ]\n",
      " [ 0.00018476  0.          0.        ]\n",
      " [ 0.00018429  0.          0.        ]\n",
      " [ 0.00018381  0.          0.        ]\n",
      " [ 0.00018334  0.          0.        ]\n",
      " [ 0.00018288  0.          0.        ]\n",
      " [ 0.00018242  0.          0.        ]\n",
      " [ 0.00018196  0.          0.        ]\n",
      " [ 0.0001815   0.          0.        ]\n",
      " [ 0.00018105  0.          0.        ]\n",
      " [ 0.0001806   0.          0.        ]\n",
      " [ 0.00018016  0.          0.        ]\n",
      " [ 0.00017972  0.          0.        ]\n",
      " [ 0.00017928  0.          0.        ]\n",
      " [ 0.00017884  0.          0.        ]\n",
      " [ 0.00017841  0.          0.        ]\n",
      " [ 0.00017798  0.          0.        ]\n",
      " [ 0.00017756  0.          0.        ]\n",
      " [ 0.00017713  0.          0.        ]\n",
      " [ 0.00017671  0.          0.        ]\n",
      " [ 0.0001763   0.          0.        ]\n",
      " [ 0.00017588  0.          0.        ]\n",
      " [ 0.00017547  0.          0.        ]\n",
      " [ 0.00017506  0.          0.        ]\n",
      " [ 0.00017466  0.          0.        ]\n",
      " [ 0.00017426  0.          0.        ]\n",
      " [ 0.00017386  0.          0.        ]\n",
      " [ 0.00017346  0.          0.        ]\n",
      " [ 0.00017307  0.          0.        ]\n",
      " [ 0.00017267  0.          0.        ]\n",
      " [ 0.00017228  0.          0.        ]\n",
      " [ 0.0001719   0.          0.        ]\n",
      " [ 0.00017151  0.          0.        ]\n",
      " [ 0.00017113  0.          0.        ]\n",
      " [ 0.00017075  0.          0.        ]\n",
      " [ 0.00017038  0.          0.        ]\n",
      " [ 0.00017     0.          0.        ]\n",
      " [ 0.00016963  0.          0.        ]\n",
      " [ 0.00016926  0.          0.        ]\n",
      " [ 0.0001689   0.          0.        ]\n",
      " [ 0.00016853  0.          0.        ]\n",
      " [ 0.00016817  0.          0.        ]\n",
      " [ 0.00016781  0.          0.        ]\n",
      " [ 0.00016746  0.          0.        ]\n",
      " [ 0.0001671   0.          0.        ]\n",
      " [ 0.00016675  0.          0.        ]\n",
      " [ 0.0001664   0.          0.        ]\n",
      " [ 0.00016605  0.          0.        ]\n",
      " [ 0.0001657   0.          0.        ]\n",
      " [ 0.00016536  0.          0.        ]\n",
      " [ 0.00016502  0.          0.        ]\n",
      " [ 0.00016468  0.          0.        ]\n",
      " [ 0.00016434  0.          0.        ]\n",
      " [ 0.000164    0.          0.        ]\n",
      " [ 0.00016367  0.          0.        ]\n",
      " [ 0.00016334  0.          0.        ]\n",
      " [ 0.00016301  0.          0.        ]\n",
      " [ 0.00016268  0.          0.        ]\n",
      " [ 0.00016236  0.          0.        ]\n",
      " [ 0.00016203  0.          0.        ]\n",
      " [ 0.00016171  0.          0.        ]\n",
      " [ 0.00016139  0.          0.        ]\n",
      " [ 0.00016108  0.          0.        ]\n",
      " [ 0.00016076  0.          0.        ]\n",
      " [ 0.00016045  0.          0.        ]\n",
      " [ 0.00016013  0.          0.        ]\n",
      " [ 0.00015982  0.          0.        ]\n",
      " [ 0.00015951  0.          0.        ]\n",
      " [ 0.00015921  0.          0.        ]\n",
      " [ 0.0001589   0.          0.        ]\n",
      " [ 0.0001586   0.          0.        ]\n",
      " [ 0.0001583   0.          0.        ]\n",
      " [ 0.000158    0.          0.        ]\n",
      " [ 0.0001577   0.          0.        ]\n",
      " [ 0.0001574   0.          0.        ]]\n"
     ]
    },
    {
     "data": {
      "image/png": "[encoded data removed]",
      "text/plain": [
       "<matplotlib.figure.Figure at 0x111e65810>"
      ]
     },
     "metadata": {},
     "output_type": "display_data"
    }
   ],
   "source": [
    "plot(E,trans[:,0])\n",
    "print trans"
   ]
  },
  {
   "cell_type": "code",
   "execution_count": 156,
   "metadata": {
    "collapsed": false
   },
   "outputs": [
    {
     "data": {
      "text/plain": [
       "[<matplotlib.lines.Line2D at 0x110eb7710>]"
      ]
     },
     "execution_count": 156,
     "metadata": {},
     "output_type": "execute_result"
    },
    {
     "data": {
      "image/png": "[encoded data removed]",
      "text/plain": [
       "<matplotlib.figure.Figure at 0x111a8e5d0>"
      ]
     },
     "metadata": {},
     "output_type": "display_data"
    }
   ],
   "source": [
    "\n",
    "g=gamma[2]\n",
    "sigma=sqrt(g**2+(4.0*OMEGA/pi)**2) #cambiando gamma    \n",
    "FT=t*sigma*sqrt(exp(-(sigma-g)*t)) #definiendo la funcion sqrt(f(t))\n",
    "\n",
    "plot(t,FT)    "
   ]
  },
  {
   "cell_type": "code",
   "execution_count": null,
   "metadata": {
    "collapsed": true
   },
   "outputs": [],
   "source": []
  }
 ],
 "metadata": {
  "kernelspec": {
   "display_name": "Python 2",
   "language": "python",
   "name": "python2"
  },
  "language_info": {
   "codemirror_mode": {
    "name": "ipython",
    "version": 2
   },
   "file_extension": ".py",
   "mimetype": "text/x-python",
   "name": "python",
   "nbconvert_exporter": "python",
   "pygments_lexer": "ipython2",
   "version": "2.7.11"
  }
 },
 "nbformat": 4,
 "nbformat_minor": 0
}
